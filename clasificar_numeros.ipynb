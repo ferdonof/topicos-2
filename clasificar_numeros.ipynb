{
  "nbformat": 4,
  "nbformat_minor": 0,
  "metadata": {
    "colab": {
      "provenance": [],
      "authorship_tag": "ABX9TyOcgcHQONe1McXmevcglGq8",
      "include_colab_link": true
    },
    "kernelspec": {
      "name": "python3",
      "display_name": "Python 3"
    },
    "language_info": {
      "name": "python"
    },
    "gpuClass": "standard",
    "accelerator": "GPU"
  },
  "cells": [
    {
      "cell_type": "markdown",
      "metadata": {
        "id": "view-in-github",
        "colab_type": "text"
      },
      "source": [
        "<a href=\"https://colab.research.google.com/github/ferdonof/topicos-2/blob/master/clasificar_numeros.ipynb\" target=\"_parent\"><img src=\"https://colab.research.google.com/assets/colab-badge.svg\" alt=\"Open In Colab\"/></a>"
      ]
    },
    {
      "cell_type": "markdown",
      "source": [
        "# **Programa de clasificación de números**\n",
        "\n",
        "# 1 - Obtención de los datos\n",
        "\n",
        "Obtenemos los datos a partir de MNIST\n",
        "Mnist provee imágenes de 28x28 pixels.\n"
      ],
      "metadata": {
        "id": "M9V-Uufjx-43"
      }
    },
    {
      "cell_type": "code",
      "execution_count": 1,
      "metadata": {
        "id": "NCv81zzhx7QA"
      },
      "outputs": [],
      "source": [
        "from tensorflow import keras\n",
        "from keras.datasets import mnist\n",
        "data = mnist.load_data()\n",
        "\n"
      ]
    },
    {
      "cell_type": "markdown",
      "source": [
        "## 2 - Pre procesamiento de los datos\n",
        "Debemos dividir los datos en datos de entrenamiento y datos para testing."
      ],
      "metadata": {
        "id": "DeptoDdSzLf5"
      }
    },
    {
      "cell_type": "code",
      "source": [
        "(train_x, train_y), (test_x, test_y) = data"
      ],
      "metadata": {
        "id": "0e4U_AeYzlw6"
      },
      "execution_count": 2,
      "outputs": []
    },
    {
      "cell_type": "markdown",
      "source": [
        "### Normalización de los datos\n",
        "\n",
        "Divido los datos en 255, para que esos valores se encuentren entre 0 y 1"
      ],
      "metadata": {
        "id": "xbqz_f42z4ao"
      }
    },
    {
      "cell_type": "code",
      "source": [
        "train_x = train_x / 255.0\n",
        "test_x = test_x / 255.0"
      ],
      "metadata": {
        "id": "_zTyusSVz-NH"
      },
      "execution_count": 3,
      "outputs": []
    },
    {
      "cell_type": "markdown",
      "source": [
        "## 3 - Armado de la red neuronal\n"
      ],
      "metadata": {
        "id": "uzZL4cYt0OkL"
      }
    },
    {
      "cell_type": "code",
      "source": [
        "import tensorflow as tf\n",
        "from keras import Sequential\n",
        "from keras.layers import Dense, Activation, Flatten\n",
        "from keras.layers.convolutional import Convolution2D\n",
        "from keras.layers.pooling import MaxPooling2D\n",
        "\n",
        "model = Sequential()\n",
        "\n",
        "# Carga de los filtros de la red\n",
        "model.add(Convolution2D(filters=64, kernel_size=3, padding='same', activation='relu',\n",
        "                             input_shape=(28,28,1)))\n",
        "model.add(MaxPooling2D(pool_size=2))\n",
        "\n",
        "\n",
        "model.add(Convolution2D(filters=128, kernel_size=3, padding='same', activation='relu'))\n",
        "model.add(MaxPooling2D(pool_size=2))\n",
        "\n",
        "model.add(Convolution2D(filters=128, kernel_size=3, padding='same', activation='relu'))\n",
        "model.add(MaxPooling2D(pool_size=2))\n",
        "\n",
        "# Se aplana el modelo\n",
        "model.add(Flatten())\n",
        "\n",
        "model.add(Dense(64, activation=\"relu\"))\n",
        "\n",
        "# Capa de salida (10 digitos)\n",
        "model.add(Dense(10, activation=\"softmax\"))\n",
        "\n",
        "model.summary()\n"
      ],
      "metadata": {
        "colab": {
          "base_uri": "https://localhost:8080/"
        },
        "id": "DinBZW5I0OIO",
        "outputId": "140ccdd9-4373-437d-890d-c03aa4445b9a"
      },
      "execution_count": 4,
      "outputs": [
        {
          "output_type": "stream",
          "name": "stdout",
          "text": [
            "Model: \"sequential\"\n",
            "_________________________________________________________________\n",
            " Layer (type)                Output Shape              Param #   \n",
            "=================================================================\n",
            " conv2d (Conv2D)             (None, 28, 28, 64)        640       \n",
            "                                                                 \n",
            " max_pooling2d (MaxPooling2D  (None, 14, 14, 64)       0         \n",
            " )                                                               \n",
            "                                                                 \n",
            " conv2d_1 (Conv2D)           (None, 14, 14, 128)       73856     \n",
            "                                                                 \n",
            " max_pooling2d_1 (MaxPooling  (None, 7, 7, 128)        0         \n",
            " 2D)                                                             \n",
            "                                                                 \n",
            " conv2d_2 (Conv2D)           (None, 7, 7, 128)         147584    \n",
            "                                                                 \n",
            " max_pooling2d_2 (MaxPooling  (None, 3, 3, 128)        0         \n",
            " 2D)                                                             \n",
            "                                                                 \n",
            " flatten (Flatten)           (None, 1152)              0         \n",
            "                                                                 \n",
            " dense (Dense)               (None, 64)                73792     \n",
            "                                                                 \n",
            " dense_1 (Dense)             (None, 10)                650       \n",
            "                                                                 \n",
            "=================================================================\n",
            "Total params: 296,522\n",
            "Trainable params: 296,522\n",
            "Non-trainable params: 0\n",
            "_________________________________________________________________\n"
          ]
        }
      ]
    },
    {
      "cell_type": "markdown",
      "source": [
        "## 4 - Entrenamiento"
      ],
      "metadata": {
        "id": "eW-Ay9dK5J8P"
      }
    },
    {
      "cell_type": "code",
      "source": [
        "\n",
        "from keras.optimizers.optimizer_v2.adam import Adam\n",
        "from keras.optimizers.optimizer_v2.nadam import Nadam\n",
        "\n",
        "learning_rate = 0.01\n",
        "loss_function = 'sparse_categorical_crossentropy'\n",
        "batch_size = 1000\n",
        "epochs = 10\n",
        "\n",
        "model.compile(optimizer=Adam(learning_rate = learning_rate), loss=loss_function, metrics = ['accuracy'])\n",
        "\n",
        "model.fit(train_x, train_y, verbose=2, batch_size = batch_size, epochs = epochs)\n"
      ],
      "metadata": {
        "colab": {
          "base_uri": "https://localhost:8080/"
        },
        "id": "RGw_bGtK5I4b",
        "outputId": "c9ce1b4e-961d-4d56-c483-61036f1af1b2"
      },
      "execution_count": 5,
      "outputs": [
        {
          "output_type": "stream",
          "name": "stdout",
          "text": [
            "Epoch 1/10\n",
            "60/60 - 7s - loss: 0.8007 - accuracy: 0.7283 - 7s/epoch - 111ms/step\n",
            "Epoch 2/10\n",
            "60/60 - 3s - loss: 0.0703 - accuracy: 0.9781 - 3s/epoch - 52ms/step\n",
            "Epoch 3/10\n",
            "60/60 - 3s - loss: 0.0446 - accuracy: 0.9863 - 3s/epoch - 50ms/step\n",
            "Epoch 4/10\n",
            "60/60 - 3s - loss: 0.0329 - accuracy: 0.9895 - 3s/epoch - 49ms/step\n",
            "Epoch 5/10\n",
            "60/60 - 3s - loss: 0.0317 - accuracy: 0.9896 - 3s/epoch - 47ms/step\n",
            "Epoch 6/10\n",
            "60/60 - 3s - loss: 0.0237 - accuracy: 0.9922 - 3s/epoch - 45ms/step\n",
            "Epoch 7/10\n",
            "60/60 - 3s - loss: 0.0191 - accuracy: 0.9937 - 3s/epoch - 45ms/step\n",
            "Epoch 8/10\n",
            "60/60 - 3s - loss: 0.0164 - accuracy: 0.9944 - 3s/epoch - 45ms/step\n",
            "Epoch 9/10\n",
            "60/60 - 3s - loss: 0.0163 - accuracy: 0.9947 - 3s/epoch - 45ms/step\n",
            "Epoch 10/10\n",
            "60/60 - 3s - loss: 0.0126 - accuracy: 0.9958 - 3s/epoch - 45ms/step\n"
          ]
        },
        {
          "output_type": "execute_result",
          "data": {
            "text/plain": [
              "<keras.callbacks.History at 0x7fa5f033d370>"
            ]
          },
          "metadata": {},
          "execution_count": 5
        }
      ]
    },
    {
      "cell_type": "markdown",
      "source": [
        "## 5 - Evaluar resultado"
      ],
      "metadata": {
        "id": "LIv1fb5385vi"
      }
    },
    {
      "cell_type": "code",
      "metadata": {
        "id": "EnzwQwDSne2Y",
        "colab": {
          "base_uri": "https://localhost:8080/"
        },
        "outputId": "23403e4a-01f4-42cd-9f2a-ac956c3fe350"
      },
      "source": [
        "\n",
        "result = model.evaluate(test_x, test_y)"
      ],
      "execution_count": 6,
      "outputs": [
        {
          "output_type": "stream",
          "name": "stdout",
          "text": [
            "313/313 [==============================] - 1s 3ms/step - loss: 0.0357 - accuracy: 0.9893\n"
          ]
        }
      ]
    },
    {
      "cell_type": "code",
      "metadata": {
        "colab": {
          "base_uri": "https://localhost:8080/",
          "height": 281
        },
        "id": "feHExdO5iNjS",
        "outputId": "a9c0fc94-66a4-4d26-b7be-3db274fc9607"
      },
      "source": [
        "import numpy as np\n",
        "import matplotlib.pyplot as plt\n",
        "\n",
        "pred_y = model.predict(test_x)\n",
        "pred_y = np.argmax(pred_y, axis=-1)\n",
        "images = np.random.randint(0, 10000, 9)\n",
        "\n",
        "\n",
        "for i in range(9):\n",
        "  image = images[i]\n",
        "  original_image = test_x[image, :]\n",
        "  original_label = test_y[image]\n",
        "  prediction_label = pred_y[image]\n",
        "\n",
        "  plt.subplot(3, 3, i+1)\n",
        "  plt.imshow(original_image, cmap='gray')\n",
        "  plt.axis('off')\n",
        "  plt.title('\"{}\" clasificado \"{}\"'.format(original_label, prediction_label))"
      ],
      "execution_count": 7,
      "outputs": [
        {
          "output_type": "stream",
          "name": "stdout",
          "text": [
            "313/313 [==============================] - 1s 2ms/step\n"
          ]
        },
        {
          "output_type": "display_data",
          "data": {
            "text/plain": [
              "<Figure size 432x288 with 9 Axes>"
            ],
            "image/png": "[encoded data removed]"
          },
          "metadata": {
            "needs_background": "light"
          }
        }
      ]
    }
  ]
}