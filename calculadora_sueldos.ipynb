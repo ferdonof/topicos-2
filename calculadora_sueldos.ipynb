{
  "nbformat": 4,
  "nbformat_minor": 0,
  "metadata": {
    "colab": {
      "provenance": [],
      "authorship_tag": "ABX9TyPCO9eMkp73GAJ+Th1sPUJX",
      "include_colab_link": true
    },
    "kernelspec": {
      "name": "python3",
      "display_name": "Python 3"
    },
    "language_info": {
      "name": "python"
    },
    "gpuClass": "standard"
  },
  "cells": [
    {
      "cell_type": "markdown",
      "metadata": {
        "id": "view-in-github",
        "colab_type": "text"
      },
      "source": [
        "<a href=\"https://colab.research.google.com/github/ferdonof/topicos-2/blob/master/calculadora_sueldos.ipynb\" target=\"_parent\"><img src=\"https://colab.research.google.com/assets/colab-badge.svg\" alt=\"Open In Colab\"/></a>"
      ]
    },
    {
      "cell_type": "markdown",
      "source": [
        "# **Programa de cálculo de sueldos**\n",
        "## 1 - Obtención de los datos\n",
        "\n",
        "Los datos utilizados son los mismos que se utilizaron en el ejemplo de clase."
      ],
      "metadata": {
        "id": "qHt3v3ctOiRH"
      }
    },
    {
      "cell_type": "code",
      "execution_count": 8,
      "metadata": {
        "colab": {
          "base_uri": "https://localhost:8080/"
        },
        "id": "y7SD41SuOcvO",
        "outputId": "863081e5-ec03-4a1f-9819-4d707fd99b09"
      },
      "outputs": [
        {
          "output_type": "stream",
          "name": "stdout",
          "text": [
            "fatal: destination path 'redesNeuronales' already exists and is not an empty directory.\n"
          ]
        }
      ],
      "source": [
        "!git clone https://github.com/gabyaleperez/redesNeuronales.git"
      ]
    },
    {
      "cell_type": "code",
      "source": [
        "import numpy as np\n",
        "import pandas as pd\n",
        "\n",
        "filename = './redesNeuronales/datos_empleados_50000.csv'\n",
        "data = pd.read_csv(filename, index_col=0)\n",
        "print(data)\n"
      ],
      "metadata": {
        "colab": {
          "base_uri": "https://localhost:8080/"
        },
        "id": "B_XVx3ykYZUz",
        "outputId": "c9c20d35-8365-48f6-f875-ec78e5ed60b8"
      },
      "execution_count": 9,
      "outputs": [
        {
          "output_type": "stream",
          "name": "stdout",
          "text": [
            "       sueldo_basico categoria  ausencias  cantidad_hijos  sueldo\n",
            "0              33600         C          2               2   37600\n",
            "1              14200         A          0               0   15570\n",
            "2              10600         C          2               1   13850\n",
            "3              16300         C          0               1   19620\n",
            "4              20900         C          2               1   24150\n",
            "...              ...       ...        ...             ...     ...\n",
            "49995          22500         C          2               2   26500\n",
            "49996          70600         A          1               0   71900\n",
            "49997          23800         B          1               3   28050\n",
            "49998          44800         A          1               3   48350\n",
            "49999          57100         A          2               1   59150\n",
            "\n",
            "[50000 rows x 5 columns]\n"
          ]
        }
      ]
    },
    {
      "cell_type": "markdown",
      "source": [
        "## 2 - Procesamiento de los datos\n",
        "Homogeneizar los datos, separarlos en  etiquetas para poder utilizalos de entrada."
      ],
      "metadata": {
        "id": "PFacN9KtZhOO"
      }
    },
    {
      "cell_type": "code",
      "source": [
        "from sklearn.model_selection import train_test_split\n",
        "\n",
        "#Clasificación de los datos utilizando onehot\n",
        "data = pd.get_dummies(data) \n",
        "\n",
        "#separamos el sueldo, para que no se use comoparte del entrenamiento\n",
        "x = data.drop(['sueldo'], axis=1) \n",
        "\n",
        "y = np.array(data['sueldo'])\n",
        "\n",
        "# utilizo la libreria para separar los datos de entrenamiento de los de testing\n",
        "train_x, test_x, train_y, test_y = train_test_split(x, y, test_size = 0.2)\n",
        "\n",
        "from pprint import pprint\n",
        "\n",
        "# muestro los datos de entrenamiento (el 80% de los datos será para entrenar la red)\n",
        "pprint(train_x)"
      ],
      "metadata": {
        "colab": {
          "base_uri": "https://localhost:8080/"
        },
        "id": "oJKfxyMAZgCN",
        "outputId": "70bff43d-b52a-4dba-f70a-77014ba192f3"
      },
      "execution_count": 10,
      "outputs": [
        {
          "output_type": "stream",
          "name": "stdout",
          "text": [
            "       sueldo_basico  ausencias  cantidad_hijos  categoria_A  categoria_B  \\\n",
            "26302          54100          0               2            0            0   \n",
            "14006          69200          2               2            0            1   \n",
            "49089          61900          2               3            0            1   \n",
            "37797          79900          1               3            0            0   \n",
            "5649           38900          1               0            0            1   \n",
            "...              ...        ...             ...          ...          ...   \n",
            "17921          13300          2               3            0            0   \n",
            "3752           45200          2               0            0            0   \n",
            "47493          75300          1               2            1            0   \n",
            "36756          59800          1               3            0            0   \n",
            "30105          25400          2               1            0            1   \n",
            "\n",
            "       categoria_C  \n",
            "26302            1  \n",
            "14006            0  \n",
            "49089            0  \n",
            "37797            1  \n",
            "5649             0  \n",
            "...            ...  \n",
            "17921            1  \n",
            "3752             1  \n",
            "47493            0  \n",
            "36756            1  \n",
            "30105            0  \n",
            "\n",
            "[40000 rows x 6 columns]\n"
          ]
        }
      ]
    },
    {
      "cell_type": "markdown",
      "source": [
        "## 3 - Armado de la RN\n",
        "Al tener 6 columnas, voy a necesitar 6 neuronas de entrada. Como la salida va a ser el sueldo (estimado) del empleado, voy a necesitar una neurona para la salida."
      ],
      "metadata": {
        "id": "uageE5BccJp6"
      }
    },
    {
      "cell_type": "code",
      "source": [
        "import numpy as np\n",
        "from tensorflow import keras\n",
        "from keras.models import Sequential\n",
        "from keras.layers import Dense\n",
        "from tensorflow.keras.optimizers import Nadam\n",
        "\n",
        "model = Sequential()\n",
        "\n",
        "# capa de entrada\n",
        "model.add(Dense(30, input_shape = (6, ), activation='relu', kernel_initializer='uniform'))\n",
        "\n",
        "# capas intermedia\n",
        "# model.add(Dense(25, activation='relu', kernel_initializer='random_normal'))\n",
        "# model.add(Dense(15, activation='relu', kernel_initializer='random_normal'))\n",
        "\n",
        "# capa de salida\n",
        "model.add(Dense(1, activation='relu'))\n",
        "\n",
        "\n",
        "# hiperparámetros\n",
        "loss_function = 'mean_squared_error' \n",
        "learning_rate = 0.001\n",
        "\n",
        "\n",
        "model.compile(loss = loss_function, optimizer=Nadam(learning_rate = learning_rate))\n",
        "\n",
        "model.summary()\n"
      ],
      "metadata": {
        "colab": {
          "base_uri": "https://localhost:8080/"
        },
        "id": "VQ5mRkSxYvGp",
        "outputId": "17d30ffb-41dd-4fb6-b9e3-4cbf75ca0fb1"
      },
      "execution_count": 11,
      "outputs": [
        {
          "output_type": "stream",
          "name": "stdout",
          "text": [
            "Model: \"sequential_1\"\n",
            "_________________________________________________________________\n",
            " Layer (type)                Output Shape              Param #   \n",
            "=================================================================\n",
            " dense_2 (Dense)             (None, 30)                210       \n",
            "                                                                 \n",
            " dense_3 (Dense)             (None, 1)                 31        \n",
            "                                                                 \n",
            "=================================================================\n",
            "Total params: 241\n",
            "Trainable params: 241\n",
            "Non-trainable params: 0\n",
            "_________________________________________________________________\n"
          ]
        }
      ]
    },
    {
      "cell_type": "markdown",
      "source": [
        "## 4 - Entrenamiento de la red"
      ],
      "metadata": {
        "id": "cm8WI2PvfAtw"
      }
    },
    {
      "cell_type": "code",
      "source": [
        "batch_size = 10000\n",
        "epochs = 200\n",
        "\n",
        "model.fit(train_x, train_y, verbose=2, batch_size = batch_size, epochs = epochs)\n",
        "\n"
      ],
      "metadata": {
        "colab": {
          "base_uri": "https://localhost:8080/"
        },
        "id": "AReLpycBfFQU",
        "outputId": "190967a7-0889-4486-fc1e-6237c51c3340"
      },
      "execution_count": 12,
      "outputs": [
        {
          "output_type": "stream",
          "name": "stdout",
          "text": [
            "Epoch 1/200\n",
            "4/4 - 1s - loss: 3372401920.0000 - 634ms/epoch - 159ms/step\n",
            "Epoch 2/200\n",
            "4/4 - 0s - loss: 3372402176.0000 - 23ms/epoch - 6ms/step\n",
            "Epoch 3/200\n",
            "4/4 - 0s - loss: 3372401920.0000 - 23ms/epoch - 6ms/step\n",
            "Epoch 4/200\n",
            "4/4 - 0s - loss: 3372402176.0000 - 26ms/epoch - 6ms/step\n",
            "Epoch 5/200\n",
            "4/4 - 0s - loss: 3372401920.0000 - 25ms/epoch - 6ms/step\n",
            "Epoch 6/200\n",
            "4/4 - 0s - loss: 3372401920.0000 - 27ms/epoch - 7ms/step\n",
            "Epoch 7/200\n",
            "4/4 - 0s - loss: 3372401920.0000 - 25ms/epoch - 6ms/step\n",
            "Epoch 8/200\n",
            "4/4 - 0s - loss: 3372401920.0000 - 24ms/epoch - 6ms/step\n",
            "Epoch 9/200\n",
            "4/4 - 0s - loss: 3372402176.0000 - 21ms/epoch - 5ms/step\n",
            "Epoch 10/200\n",
            "4/4 - 0s - loss: 3372401920.0000 - 26ms/epoch - 6ms/step\n",
            "Epoch 11/200\n",
            "4/4 - 0s - loss: 3372401920.0000 - 27ms/epoch - 7ms/step\n",
            "Epoch 12/200\n",
            "4/4 - 0s - loss: 3372402176.0000 - 28ms/epoch - 7ms/step\n",
            "Epoch 13/200\n",
            "4/4 - 0s - loss: 3372401920.0000 - 22ms/epoch - 6ms/step\n",
            "Epoch 14/200\n",
            "4/4 - 0s - loss: 3372401920.0000 - 33ms/epoch - 8ms/step\n",
            "Epoch 15/200\n",
            "4/4 - 0s - loss: 3372401920.0000 - 24ms/epoch - 6ms/step\n",
            "Epoch 16/200\n",
            "4/4 - 0s - loss: 3372401920.0000 - 23ms/epoch - 6ms/step\n",
            "Epoch 17/200\n",
            "4/4 - 0s - loss: 3372402176.0000 - 22ms/epoch - 6ms/step\n",
            "Epoch 18/200\n",
            "4/4 - 0s - loss: 3372401920.0000 - 25ms/epoch - 6ms/step\n",
            "Epoch 19/200\n",
            "4/4 - 0s - loss: 3372401920.0000 - 20ms/epoch - 5ms/step\n",
            "Epoch 20/200\n",
            "4/4 - 0s - loss: 3372401920.0000 - 24ms/epoch - 6ms/step\n",
            "Epoch 21/200\n",
            "4/4 - 0s - loss: 3372401920.0000 - 23ms/epoch - 6ms/step\n",
            "Epoch 22/200\n",
            "4/4 - 0s - loss: 3372401920.0000 - 29ms/epoch - 7ms/step\n",
            "Epoch 23/200\n",
            "4/4 - 0s - loss: 3372401920.0000 - 33ms/epoch - 8ms/step\n",
            "Epoch 24/200\n",
            "4/4 - 0s - loss: 3372401920.0000 - 26ms/epoch - 6ms/step\n",
            "Epoch 25/200\n",
            "4/4 - 0s - loss: 3372401920.0000 - 26ms/epoch - 6ms/step\n",
            "Epoch 26/200\n",
            "4/4 - 0s - loss: 3372401920.0000 - 28ms/epoch - 7ms/step\n",
            "Epoch 27/200\n",
            "4/4 - 0s - loss: 3372401920.0000 - 24ms/epoch - 6ms/step\n",
            "Epoch 28/200\n",
            "4/4 - 0s - loss: 3372401920.0000 - 24ms/epoch - 6ms/step\n",
            "Epoch 29/200\n",
            "4/4 - 0s - loss: 3372401920.0000 - 28ms/epoch - 7ms/step\n",
            "Epoch 30/200\n",
            "4/4 - 0s - loss: 3372401920.0000 - 21ms/epoch - 5ms/step\n",
            "Epoch 31/200\n",
            "4/4 - 0s - loss: 3372401920.0000 - 24ms/epoch - 6ms/step\n",
            "Epoch 32/200\n",
            "4/4 - 0s - loss: 3372402176.0000 - 23ms/epoch - 6ms/step\n",
            "Epoch 33/200\n",
            "4/4 - 0s - loss: 3372401920.0000 - 25ms/epoch - 6ms/step\n",
            "Epoch 34/200\n",
            "4/4 - 0s - loss: 3372401920.0000 - 21ms/epoch - 5ms/step\n",
            "Epoch 35/200\n",
            "4/4 - 0s - loss: 3372401920.0000 - 23ms/epoch - 6ms/step\n",
            "Epoch 36/200\n",
            "4/4 - 0s - loss: 3372401920.0000 - 22ms/epoch - 6ms/step\n",
            "Epoch 37/200\n",
            "4/4 - 0s - loss: 3372401920.0000 - 24ms/epoch - 6ms/step\n",
            "Epoch 38/200\n",
            "4/4 - 0s - loss: 3372401920.0000 - 24ms/epoch - 6ms/step\n",
            "Epoch 39/200\n",
            "4/4 - 0s - loss: 3372401920.0000 - 25ms/epoch - 6ms/step\n",
            "Epoch 40/200\n",
            "4/4 - 0s - loss: 3372401920.0000 - 24ms/epoch - 6ms/step\n",
            "Epoch 41/200\n",
            "4/4 - 0s - loss: 3372402176.0000 - 36ms/epoch - 9ms/step\n",
            "Epoch 42/200\n",
            "4/4 - 0s - loss: 3372401920.0000 - 25ms/epoch - 6ms/step\n",
            "Epoch 43/200\n",
            "4/4 - 0s - loss: 3372401920.0000 - 23ms/epoch - 6ms/step\n",
            "Epoch 44/200\n",
            "4/4 - 0s - loss: 3372401920.0000 - 25ms/epoch - 6ms/step\n",
            "Epoch 45/200\n",
            "4/4 - 0s - loss: 3372401920.0000 - 26ms/epoch - 7ms/step\n",
            "Epoch 46/200\n",
            "4/4 - 0s - loss: 3372401920.0000 - 24ms/epoch - 6ms/step\n",
            "Epoch 47/200\n",
            "4/4 - 0s - loss: 3372401920.0000 - 23ms/epoch - 6ms/step\n",
            "Epoch 48/200\n",
            "4/4 - 0s - loss: 3372402176.0000 - 30ms/epoch - 7ms/step\n",
            "Epoch 49/200\n",
            "4/4 - 0s - loss: 3372401920.0000 - 30ms/epoch - 8ms/step\n",
            "Epoch 50/200\n",
            "4/4 - 0s - loss: 3372401920.0000 - 23ms/epoch - 6ms/step\n",
            "Epoch 51/200\n",
            "4/4 - 0s - loss: 3372401920.0000 - 23ms/epoch - 6ms/step\n",
            "Epoch 52/200\n",
            "4/4 - 0s - loss: 3372401920.0000 - 24ms/epoch - 6ms/step\n",
            "Epoch 53/200\n",
            "4/4 - 0s - loss: 3372401920.0000 - 23ms/epoch - 6ms/step\n",
            "Epoch 54/200\n",
            "4/4 - 0s - loss: 3372401920.0000 - 27ms/epoch - 7ms/step\n",
            "Epoch 55/200\n",
            "4/4 - 0s - loss: 3372401920.0000 - 22ms/epoch - 5ms/step\n",
            "Epoch 56/200\n",
            "4/4 - 0s - loss: 3372401920.0000 - 22ms/epoch - 5ms/step\n",
            "Epoch 57/200\n",
            "4/4 - 0s - loss: 3372401920.0000 - 23ms/epoch - 6ms/step\n",
            "Epoch 58/200\n",
            "4/4 - 0s - loss: 3372402432.0000 - 23ms/epoch - 6ms/step\n",
            "Epoch 59/200\n",
            "4/4 - 0s - loss: 3372402176.0000 - 23ms/epoch - 6ms/step\n",
            "Epoch 60/200\n",
            "4/4 - 0s - loss: 3372402432.0000 - 31ms/epoch - 8ms/step\n",
            "Epoch 61/200\n",
            "4/4 - 0s - loss: 3372401920.0000 - 23ms/epoch - 6ms/step\n",
            "Epoch 62/200\n",
            "4/4 - 0s - loss: 3372401920.0000 - 22ms/epoch - 6ms/step\n",
            "Epoch 63/200\n",
            "4/4 - 0s - loss: 3372401920.0000 - 24ms/epoch - 6ms/step\n",
            "Epoch 64/200\n",
            "4/4 - 0s - loss: 3372402176.0000 - 25ms/epoch - 6ms/step\n",
            "Epoch 65/200\n",
            "4/4 - 0s - loss: 3372401920.0000 - 24ms/epoch - 6ms/step\n",
            "Epoch 66/200\n",
            "4/4 - 0s - loss: 3372401920.0000 - 25ms/epoch - 6ms/step\n",
            "Epoch 67/200\n",
            "4/4 - 0s - loss: 3372402176.0000 - 25ms/epoch - 6ms/step\n",
            "Epoch 68/200\n",
            "4/4 - 0s - loss: 3372401920.0000 - 22ms/epoch - 6ms/step\n",
            "Epoch 69/200\n",
            "4/4 - 0s - loss: 3372402176.0000 - 24ms/epoch - 6ms/step\n",
            "Epoch 70/200\n",
            "4/4 - 0s - loss: 3372401920.0000 - 24ms/epoch - 6ms/step\n",
            "Epoch 71/200\n",
            "4/4 - 0s - loss: 3372402432.0000 - 24ms/epoch - 6ms/step\n",
            "Epoch 72/200\n",
            "4/4 - 0s - loss: 3372401920.0000 - 24ms/epoch - 6ms/step\n",
            "Epoch 73/200\n",
            "4/4 - 0s - loss: 3372401920.0000 - 24ms/epoch - 6ms/step\n",
            "Epoch 74/200\n",
            "4/4 - 0s - loss: 3372401920.0000 - 31ms/epoch - 8ms/step\n",
            "Epoch 75/200\n",
            "4/4 - 0s - loss: 3372401920.0000 - 25ms/epoch - 6ms/step\n",
            "Epoch 76/200\n",
            "4/4 - 0s - loss: 3372401920.0000 - 24ms/epoch - 6ms/step\n",
            "Epoch 77/200\n",
            "4/4 - 0s - loss: 3372401920.0000 - 24ms/epoch - 6ms/step\n",
            "Epoch 78/200\n",
            "4/4 - 0s - loss: 3372401920.0000 - 21ms/epoch - 5ms/step\n",
            "Epoch 79/200\n",
            "4/4 - 0s - loss: 3372401920.0000 - 42ms/epoch - 10ms/step\n",
            "Epoch 80/200\n",
            "4/4 - 0s - loss: 3372401920.0000 - 30ms/epoch - 8ms/step\n",
            "Epoch 81/200\n",
            "4/4 - 0s - loss: 3372402176.0000 - 23ms/epoch - 6ms/step\n",
            "Epoch 82/200\n",
            "4/4 - 0s - loss: 3372401920.0000 - 22ms/epoch - 6ms/step\n",
            "Epoch 83/200\n",
            "4/4 - 0s - loss: 3372401920.0000 - 32ms/epoch - 8ms/step\n",
            "Epoch 84/200\n",
            "4/4 - 0s - loss: 3372401920.0000 - 25ms/epoch - 6ms/step\n",
            "Epoch 85/200\n",
            "4/4 - 0s - loss: 3372402176.0000 - 23ms/epoch - 6ms/step\n",
            "Epoch 86/200\n",
            "4/4 - 0s - loss: 3372402176.0000 - 26ms/epoch - 7ms/step\n",
            "Epoch 87/200\n",
            "4/4 - 0s - loss: 3372402176.0000 - 23ms/epoch - 6ms/step\n",
            "Epoch 88/200\n",
            "4/4 - 0s - loss: 3372401920.0000 - 25ms/epoch - 6ms/step\n",
            "Epoch 89/200\n",
            "4/4 - 0s - loss: 3372402432.0000 - 25ms/epoch - 6ms/step\n",
            "Epoch 90/200\n",
            "4/4 - 0s - loss: 3372401920.0000 - 26ms/epoch - 7ms/step\n",
            "Epoch 91/200\n",
            "4/4 - 0s - loss: 3372401920.0000 - 23ms/epoch - 6ms/step\n",
            "Epoch 92/200\n",
            "4/4 - 0s - loss: 3372401920.0000 - 28ms/epoch - 7ms/step\n",
            "Epoch 93/200\n",
            "4/4 - 0s - loss: 3372401920.0000 - 27ms/epoch - 7ms/step\n",
            "Epoch 94/200\n",
            "4/4 - 0s - loss: 3372402176.0000 - 24ms/epoch - 6ms/step\n",
            "Epoch 95/200\n",
            "4/4 - 0s - loss: 3372401920.0000 - 23ms/epoch - 6ms/step\n",
            "Epoch 96/200\n",
            "4/4 - 0s - loss: 3372401920.0000 - 23ms/epoch - 6ms/step\n",
            "Epoch 97/200\n",
            "4/4 - 0s - loss: 3372401920.0000 - 25ms/epoch - 6ms/step\n",
            "Epoch 98/200\n",
            "4/4 - 0s - loss: 3372401920.0000 - 23ms/epoch - 6ms/step\n",
            "Epoch 99/200\n",
            "4/4 - 0s - loss: 3372402176.0000 - 24ms/epoch - 6ms/step\n",
            "Epoch 100/200\n",
            "4/4 - 0s - loss: 3372401920.0000 - 28ms/epoch - 7ms/step\n",
            "Epoch 101/200\n",
            "4/4 - 0s - loss: 3372402176.0000 - 22ms/epoch - 6ms/step\n",
            "Epoch 102/200\n",
            "4/4 - 0s - loss: 3372401920.0000 - 23ms/epoch - 6ms/step\n",
            "Epoch 103/200\n",
            "4/4 - 0s - loss: 3372402176.0000 - 28ms/epoch - 7ms/step\n",
            "Epoch 104/200\n",
            "4/4 - 0s - loss: 3372402176.0000 - 23ms/epoch - 6ms/step\n",
            "Epoch 105/200\n",
            "4/4 - 0s - loss: 3372401920.0000 - 22ms/epoch - 6ms/step\n",
            "Epoch 106/200\n",
            "4/4 - 0s - loss: 3372401920.0000 - 22ms/epoch - 5ms/step\n",
            "Epoch 107/200\n",
            "4/4 - 0s - loss: 3372402176.0000 - 22ms/epoch - 6ms/step\n",
            "Epoch 108/200\n",
            "4/4 - 0s - loss: 3372401920.0000 - 22ms/epoch - 6ms/step\n",
            "Epoch 109/200\n",
            "4/4 - 0s - loss: 3372401920.0000 - 23ms/epoch - 6ms/step\n",
            "Epoch 110/200\n",
            "4/4 - 0s - loss: 3372401920.0000 - 31ms/epoch - 8ms/step\n",
            "Epoch 111/200\n",
            "4/4 - 0s - loss: 3372401920.0000 - 24ms/epoch - 6ms/step\n",
            "Epoch 112/200\n",
            "4/4 - 0s - loss: 3372402176.0000 - 24ms/epoch - 6ms/step\n",
            "Epoch 113/200\n",
            "4/4 - 0s - loss: 3372401920.0000 - 24ms/epoch - 6ms/step\n",
            "Epoch 114/200\n",
            "4/4 - 0s - loss: 3372401920.0000 - 26ms/epoch - 6ms/step\n",
            "Epoch 115/200\n",
            "4/4 - 0s - loss: 3372401920.0000 - 24ms/epoch - 6ms/step\n",
            "Epoch 116/200\n",
            "4/4 - 0s - loss: 3372401920.0000 - 32ms/epoch - 8ms/step\n",
            "Epoch 117/200\n",
            "4/4 - 0s - loss: 3372401920.0000 - 34ms/epoch - 8ms/step\n",
            "Epoch 118/200\n",
            "4/4 - 0s - loss: 3372401920.0000 - 22ms/epoch - 6ms/step\n",
            "Epoch 119/200\n",
            "4/4 - 0s - loss: 3372401920.0000 - 24ms/epoch - 6ms/step\n",
            "Epoch 120/200\n",
            "4/4 - 0s - loss: 3372401920.0000 - 21ms/epoch - 5ms/step\n",
            "Epoch 121/200\n",
            "4/4 - 0s - loss: 3372402176.0000 - 28ms/epoch - 7ms/step\n",
            "Epoch 122/200\n",
            "4/4 - 0s - loss: 3372402176.0000 - 24ms/epoch - 6ms/step\n",
            "Epoch 123/200\n",
            "4/4 - 0s - loss: 3372401920.0000 - 24ms/epoch - 6ms/step\n",
            "Epoch 124/200\n",
            "4/4 - 0s - loss: 3372401920.0000 - 28ms/epoch - 7ms/step\n",
            "Epoch 125/200\n",
            "4/4 - 0s - loss: 3372401920.0000 - 26ms/epoch - 6ms/step\n",
            "Epoch 126/200\n",
            "4/4 - 0s - loss: 3372401920.0000 - 24ms/epoch - 6ms/step\n",
            "Epoch 127/200\n",
            "4/4 - 0s - loss: 3372401920.0000 - 27ms/epoch - 7ms/step\n",
            "Epoch 128/200\n",
            "4/4 - 0s - loss: 3372401920.0000 - 24ms/epoch - 6ms/step\n",
            "Epoch 129/200\n",
            "4/4 - 0s - loss: 3372402176.0000 - 23ms/epoch - 6ms/step\n",
            "Epoch 130/200\n",
            "4/4 - 0s - loss: 3372402176.0000 - 22ms/epoch - 6ms/step\n",
            "Epoch 131/200\n",
            "4/4 - 0s - loss: 3372401920.0000 - 28ms/epoch - 7ms/step\n",
            "Epoch 132/200\n",
            "4/4 - 0s - loss: 3372401920.0000 - 26ms/epoch - 6ms/step\n",
            "Epoch 133/200\n",
            "4/4 - 0s - loss: 3372401920.0000 - 24ms/epoch - 6ms/step\n",
            "Epoch 134/200\n",
            "4/4 - 0s - loss: 3372401920.0000 - 25ms/epoch - 6ms/step\n",
            "Epoch 135/200\n",
            "4/4 - 0s - loss: 3372401920.0000 - 26ms/epoch - 6ms/step\n",
            "Epoch 136/200\n",
            "4/4 - 0s - loss: 3372401920.0000 - 25ms/epoch - 6ms/step\n",
            "Epoch 137/200\n",
            "4/4 - 0s - loss: 3372401920.0000 - 23ms/epoch - 6ms/step\n",
            "Epoch 138/200\n",
            "4/4 - 0s - loss: 3372402176.0000 - 29ms/epoch - 7ms/step\n",
            "Epoch 139/200\n",
            "4/4 - 0s - loss: 3372401920.0000 - 25ms/epoch - 6ms/step\n",
            "Epoch 140/200\n",
            "4/4 - 0s - loss: 3372402176.0000 - 22ms/epoch - 6ms/step\n",
            "Epoch 141/200\n",
            "4/4 - 0s - loss: 3372402176.0000 - 29ms/epoch - 7ms/step\n",
            "Epoch 142/200\n",
            "4/4 - 0s - loss: 3372402176.0000 - 25ms/epoch - 6ms/step\n",
            "Epoch 143/200\n",
            "4/4 - 0s - loss: 3372401920.0000 - 25ms/epoch - 6ms/step\n",
            "Epoch 144/200\n",
            "4/4 - 0s - loss: 3372401920.0000 - 23ms/epoch - 6ms/step\n",
            "Epoch 145/200\n",
            "4/4 - 0s - loss: 3372401920.0000 - 22ms/epoch - 5ms/step\n",
            "Epoch 146/200\n",
            "4/4 - 0s - loss: 3372401920.0000 - 23ms/epoch - 6ms/step\n",
            "Epoch 147/200\n",
            "4/4 - 0s - loss: 3372401920.0000 - 22ms/epoch - 5ms/step\n",
            "Epoch 148/200\n",
            "4/4 - 0s - loss: 3372401920.0000 - 25ms/epoch - 6ms/step\n",
            "Epoch 149/200\n",
            "4/4 - 0s - loss: 3372402176.0000 - 27ms/epoch - 7ms/step\n",
            "Epoch 150/200\n",
            "4/4 - 0s - loss: 3372401920.0000 - 23ms/epoch - 6ms/step\n",
            "Epoch 151/200\n",
            "4/4 - 0s - loss: 3372402176.0000 - 27ms/epoch - 7ms/step\n",
            "Epoch 152/200\n",
            "4/4 - 0s - loss: 3372401920.0000 - 27ms/epoch - 7ms/step\n",
            "Epoch 153/200\n",
            "4/4 - 0s - loss: 3372402176.0000 - 25ms/epoch - 6ms/step\n",
            "Epoch 154/200\n",
            "4/4 - 0s - loss: 3372401920.0000 - 31ms/epoch - 8ms/step\n",
            "Epoch 155/200\n",
            "4/4 - 0s - loss: 3372401920.0000 - 24ms/epoch - 6ms/step\n",
            "Epoch 156/200\n",
            "4/4 - 0s - loss: 3372402176.0000 - 24ms/epoch - 6ms/step\n",
            "Epoch 157/200\n",
            "4/4 - 0s - loss: 3372401920.0000 - 27ms/epoch - 7ms/step\n",
            "Epoch 158/200\n",
            "4/4 - 0s - loss: 3372401920.0000 - 23ms/epoch - 6ms/step\n",
            "Epoch 159/200\n",
            "4/4 - 0s - loss: 3372401920.0000 - 25ms/epoch - 6ms/step\n",
            "Epoch 160/200\n",
            "4/4 - 0s - loss: 3372401920.0000 - 24ms/epoch - 6ms/step\n",
            "Epoch 161/200\n",
            "4/4 - 0s - loss: 3372402176.0000 - 31ms/epoch - 8ms/step\n",
            "Epoch 162/200\n",
            "4/4 - 0s - loss: 3372401920.0000 - 26ms/epoch - 7ms/step\n",
            "Epoch 163/200\n",
            "4/4 - 0s - loss: 3372401920.0000 - 24ms/epoch - 6ms/step\n",
            "Epoch 164/200\n",
            "4/4 - 0s - loss: 3372401920.0000 - 26ms/epoch - 7ms/step\n",
            "Epoch 165/200\n",
            "4/4 - 0s - loss: 3372401920.0000 - 25ms/epoch - 6ms/step\n",
            "Epoch 166/200\n",
            "4/4 - 0s - loss: 3372401920.0000 - 22ms/epoch - 6ms/step\n",
            "Epoch 167/200\n",
            "4/4 - 0s - loss: 3372402176.0000 - 22ms/epoch - 6ms/step\n",
            "Epoch 168/200\n",
            "4/4 - 0s - loss: 3372401920.0000 - 22ms/epoch - 6ms/step\n",
            "Epoch 169/200\n",
            "4/4 - 0s - loss: 3372401920.0000 - 24ms/epoch - 6ms/step\n",
            "Epoch 170/200\n",
            "4/4 - 0s - loss: 3372402432.0000 - 24ms/epoch - 6ms/step\n",
            "Epoch 171/200\n",
            "4/4 - 0s - loss: 3372401920.0000 - 26ms/epoch - 6ms/step\n",
            "Epoch 172/200\n",
            "4/4 - 0s - loss: 3372402176.0000 - 29ms/epoch - 7ms/step\n",
            "Epoch 173/200\n",
            "4/4 - 0s - loss: 3372401920.0000 - 24ms/epoch - 6ms/step\n",
            "Epoch 174/200\n",
            "4/4 - 0s - loss: 3372401920.0000 - 25ms/epoch - 6ms/step\n",
            "Epoch 175/200\n",
            "4/4 - 0s - loss: 3372401920.0000 - 25ms/epoch - 6ms/step\n",
            "Epoch 176/200\n",
            "4/4 - 0s - loss: 3372402176.0000 - 24ms/epoch - 6ms/step\n",
            "Epoch 177/200\n",
            "4/4 - 0s - loss: 3372401920.0000 - 23ms/epoch - 6ms/step\n",
            "Epoch 178/200\n",
            "4/4 - 0s - loss: 3372402176.0000 - 27ms/epoch - 7ms/step\n",
            "Epoch 179/200\n",
            "4/4 - 0s - loss: 3372401920.0000 - 24ms/epoch - 6ms/step\n",
            "Epoch 180/200\n",
            "4/4 - 0s - loss: 3372401920.0000 - 25ms/epoch - 6ms/step\n",
            "Epoch 181/200\n",
            "4/4 - 0s - loss: 3372401920.0000 - 23ms/epoch - 6ms/step\n",
            "Epoch 182/200\n",
            "4/4 - 0s - loss: 3372402176.0000 - 26ms/epoch - 6ms/step\n",
            "Epoch 183/200\n",
            "4/4 - 0s - loss: 3372402176.0000 - 22ms/epoch - 5ms/step\n",
            "Epoch 184/200\n",
            "4/4 - 0s - loss: 3372402176.0000 - 23ms/epoch - 6ms/step\n",
            "Epoch 185/200\n",
            "4/4 - 0s - loss: 3372402176.0000 - 21ms/epoch - 5ms/step\n",
            "Epoch 186/200\n",
            "4/4 - 0s - loss: 3372401920.0000 - 25ms/epoch - 6ms/step\n",
            "Epoch 187/200\n",
            "4/4 - 0s - loss: 3372402176.0000 - 30ms/epoch - 8ms/step\n",
            "Epoch 188/200\n",
            "4/4 - 0s - loss: 3372402176.0000 - 25ms/epoch - 6ms/step\n",
            "Epoch 189/200\n",
            "4/4 - 0s - loss: 3372402176.0000 - 24ms/epoch - 6ms/step\n",
            "Epoch 190/200\n",
            "4/4 - 0s - loss: 3372401920.0000 - 24ms/epoch - 6ms/step\n",
            "Epoch 191/200\n",
            "4/4 - 0s - loss: 3372401920.0000 - 31ms/epoch - 8ms/step\n",
            "Epoch 192/200\n",
            "4/4 - 0s - loss: 3372401920.0000 - 25ms/epoch - 6ms/step\n",
            "Epoch 193/200\n",
            "4/4 - 0s - loss: 3372401920.0000 - 25ms/epoch - 6ms/step\n",
            "Epoch 194/200\n",
            "4/4 - 0s - loss: 3372401920.0000 - 23ms/epoch - 6ms/step\n",
            "Epoch 195/200\n",
            "4/4 - 0s - loss: 3372401920.0000 - 25ms/epoch - 6ms/step\n",
            "Epoch 196/200\n",
            "4/4 - 0s - loss: 3372401920.0000 - 25ms/epoch - 6ms/step\n",
            "Epoch 197/200\n",
            "4/4 - 0s - loss: 3372402176.0000 - 24ms/epoch - 6ms/step\n",
            "Epoch 198/200\n",
            "4/4 - 0s - loss: 3372401920.0000 - 23ms/epoch - 6ms/step\n",
            "Epoch 199/200\n",
            "4/4 - 0s - loss: 3372402176.0000 - 27ms/epoch - 7ms/step\n",
            "Epoch 200/200\n",
            "4/4 - 0s - loss: 3372401920.0000 - 24ms/epoch - 6ms/step\n"
          ]
        },
        {
          "output_type": "execute_result",
          "data": {
            "text/plain": [
              "<keras.callbacks.History at 0x7fce484921c0>"
            ]
          },
          "metadata": {},
          "execution_count": 12
        }
      ]
    },
    {
      "cell_type": "markdown",
      "source": [
        "## 5 - Evaluar el resultado"
      ],
      "metadata": {
        "id": "3v-zEx7ThfoW"
      }
    },
    {
      "cell_type": "code",
      "source": [
        "result = model.evaluate(test_x, test_y)"
      ],
      "metadata": {
        "colab": {
          "base_uri": "https://localhost:8080/"
        },
        "id": "GMcVdYh3hfNK",
        "outputId": "9ba183bd-9f7c-4535-9e38-5d6c58dba004"
      },
      "execution_count": 13,
      "outputs": [
        {
          "output_type": "stream",
          "name": "stdout",
          "text": [
            "313/313 [==============================] - 1s 1ms/step - loss: 3329243136.0000\n"
          ]
        }
      ]
    },
    {
      "cell_type": "markdown",
      "source": [
        "## 6 - Predicción de los nuevos datos"
      ],
      "metadata": {
        "id": "DzYp4dU2h52Z"
      }
    },
    {
      "cell_type": "code",
      "source": [
        "pred_y = model.predict(test_x)\n",
        "  \n",
        "print(\"Resultados de las predicciones\\n\")  \n",
        "print(\"|\\tEsperado $\\t|\\tObtenido $|\")\n",
        "print(\"-------------------------------------------------\")\n",
        "\n",
        "for i in range(5):\n",
        "  print(\"|\\t\",test_y[i],\"\\t\\t|\\t\",pred_y[i][0],\"|\")\n"
      ],
      "metadata": {
        "colab": {
          "base_uri": "https://localhost:8080/"
        },
        "id": "TTjD0jzCiBVW",
        "outputId": "ed094927-9d8c-4c4e-9686-35846923ad92"
      },
      "execution_count": 14,
      "outputs": [
        {
          "output_type": "stream",
          "name": "stdout",
          "text": [
            "313/313 [==============================] - 0s 1ms/step\n",
            "Resultados de las predicciones\n",
            "\n",
            "|\tEsperado $\t|\tObtenido $|\n",
            "-------------------------------------------------\n",
            "|\t 16570 \t\t|\t 0.0 |\n",
            "|\t 47800 \t\t|\t 0.0 |\n",
            "|\t 65170 \t\t|\t 0.0 |\n",
            "|\t 57470 \t\t|\t 0.0 |\n",
            "|\t 52820 \t\t|\t 0.0 |\n"
          ]
        }
      ]
    }
  ]
}